{
 "cells": [
  {
   "cell_type": "code",
   "execution_count": 15,
   "metadata": {},
   "outputs": [],
   "source": [
    "import pandas as pd\n",
    "from geopy.geocoders import Nominatim\n",
    "\n",
    "# read input CSV file\n",
    "df = pd.read_csv(r'C:/Users/user/Desktop/csv_files/Book1.csv')\n",
    "\n",
    "# initialize geocoder\n",
    "geolocator = Nominatim(user_agent='my_app', timeout=10)\n",
    "\n",
    "# define function to get latitude and longitude for an address\n",
    "def get_location(address):\n",
    "    location = geolocator.geocode(address)\n",
    "    if location is None:\n",
    "        return None, None\n",
    "    else:\n",
    "        return location.latitude, location.longitude\n",
    "\n",
    "# apply function to 'address' column to get latitude and longitude\n",
    "df['latitude'], df['longitude'] = zip(*df['address'].apply(get_location))\n",
    "\n",
    "# save output CSV file\n",
    "df.to_csv(r'C:/Users/user/Desktop/csv_files/test12.csv', index=False)\n"
   ]
  },
  {
   "cell_type": "code",
   "execution_count": null,
   "metadata": {},
   "outputs": [],
   "source": []
  }
 ],
 "metadata": {
  "kernelspec": {
   "display_name": "Python 3",
   "language": "python",
   "name": "python3"
  },
  "language_info": {
   "codemirror_mode": {
    "name": "ipython",
    "version": 3
   },
   "file_extension": ".py",
   "mimetype": "text/x-python",
   "name": "python",
   "nbconvert_exporter": "python",
   "pygments_lexer": "ipython3",
   "version": "3.8.5"
  }
 },
 "nbformat": 4,
 "nbformat_minor": 4
}
